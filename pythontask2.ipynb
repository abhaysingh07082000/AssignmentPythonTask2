{
 "cells": [
  {
   "cell_type": "markdown",
   "id": "20c7145d-18a8-46c3-8db5-80d6ff5c2ada",
   "metadata": {},
   "source": [
    "'''Q1. You are writing code for a company. The requirement of the company is that you create a python\n",
    "function that will check whether the password entered by the user is correct or not. The function should\n",
    "take the password as input and return the string “Valid Password” if the entered password follows the\n",
    "below-given password guidelines else it should return “Invalid Password”.\n",
    "\n",
    "\n",
    "Note: 1. The Password should contain at least two uppercase letters and at least two lowercase letters.\r\n",
    "2. The Password should contain at least a number and three special characters.\r\n",
    "3. The length of the password should be 10 characters long.\n",
    "'''"
   ]
  },
  {
   "cell_type": "code",
   "execution_count": 1,
   "id": "ee940b1e-1cff-4728-8af8-7054dfe4d04a",
   "metadata": {},
   "outputs": [],
   "source": [
    "def password_policy(password):\n",
    "    \n",
    "    uppercase_count = 0\n",
    "    lowercase_count = 0\n",
    "    number_count = 0\n",
    "    specialchar_count = 0\n",
    "  \n",
    "    upper = 'ABCDEFGHIJKLMNOPQRSTUVWXYZ'\n",
    "    lower = 'abcdefghijklmnopqrstuvwxyz'\n",
    "    num = '0123456789'\n",
    "    special_char = '@!#$%^&*()-+'\n",
    "    \n",
    "    if len(password) < 10:\n",
    "        return 'Invalid Password'\n",
    "    \n",
    "    \n",
    "    for i in password:\n",
    "        if i in upper:\n",
    "            uppercase_count += 1\n",
    "        elif i in lower:\n",
    "            lowercase_count += 1\n",
    "        elif i in num:\n",
    "            number_count += 1\n",
    "        elif i in special_char:\n",
    "            specialchar_count += 1\n",
    "    \n",
    "    \n",
    "    if uppercase_count >= 2 and lowercase_count >= 2 and number_count >= 1 and specialchar_count >= 3:\n",
    "        return 'Valid Password'\n",
    "    else:\n",
    "        return 'Invalid Password'\n",
    "\n",
    "\n"
   ]
  },
  {
   "cell_type": "code",
   "execution_count": 2,
   "id": "d11ac4e9-d72e-4436-ad4d-947a12a52148",
   "metadata": {},
   "outputs": [
    {
     "name": "stdin",
     "output_type": "stream",
     "text": [
      "Enter your password gtweteartearawr\n"
     ]
    },
    {
     "data": {
      "text/plain": [
       "'Invalid Password'"
      ]
     },
     "execution_count": 2,
     "metadata": {},
     "output_type": "execute_result"
    }
   ],
   "source": [
    "passw=str(input(\"Enter your password\"))\n",
    "password_policy(passw)"
   ]
  },
  {
   "cell_type": "code",
   "execution_count": 3,
   "id": "26ec2db8-7f0f-4124-810c-a2133b7240e8",
   "metadata": {},
   "outputs": [
    {
     "data": {
      "text/plain": [
       "'Q2. Solve the below-given questions using at least one of the following:\\n1. Lambda functioJ\\n2. Filter functioJ\\n3. Zap functioJ\\n4. List ComprehensioI\\nB Check if the string starts with a particular letter \\nB Check if the string is numericY\\nB Sort a list of tuples having fruit names and their quantity. [(\"mango\",99),(\"orange\",80), (\"grapes\", 1000)-\\nB Find the squares of numbers from 1 to 10Y\\nB Find the cube root of numbers from 1 to 10Y\\nB Check if a given number is evenY\\nB Filter odd numbers from the given list.\\n[1,2,3,4,5,6,7,8,9,10-\\nB Sort a list of integers into positive and negative integers lists.\\n[1,2,3,4,5,6,-1,-2,-3,-4,-5,0]'"
      ]
     },
     "execution_count": 3,
     "metadata": {},
     "output_type": "execute_result"
    }
   ],
   "source": [
    "'''Q2. Solve the below-given questions using at least one of the following:\n",
    "1. Lambda functioJ\n",
    "2. Filter functioJ\n",
    "3. Zap functioJ\n",
    "4. List ComprehensioI\n",
    "B Check if the string starts with a particular letter \n",
    "B Check if the string is numericY\n",
    "B Sort a list of tuples having fruit names and their quantity. [(\"mango\",99),(\"orange\",80), (\"grapes\", 1000)]-\n",
    "B Find the squares of numbers from 1 to 10Y\n",
    "B Find the cube root of numbers from 1 to 10Y\n",
    "B Check if a given number is evenY\n",
    "B Filter odd numbers from the given list.\n",
    "[1,2,3,4,5,6,7,8,9,10-\n",
    "B Sort a list of integers into positive and negative integers lists.\n",
    "[1,2,3,4,5,6,-1,-2,-3,-4,-5,0]'''"
   ]
  },
  {
   "cell_type": "code",
   "execution_count": 6,
   "id": "22f13e84-d1ba-4ce2-933b-b64cca3bf9d9",
   "metadata": {},
   "outputs": [],
   "source": [
    "\n",
    "start_with=lambda x,letter:x.startswith(letter)  "
   ]
  },
  {
   "cell_type": "code",
   "execution_count": 8,
   "id": "b2d4886e-4bd7-4131-b62f-ca2485acdc5d",
   "metadata": {},
   "outputs": [
    {
     "data": {
      "text/plain": [
       "True"
      ]
     },
     "execution_count": 8,
     "metadata": {},
     "output_type": "execute_result"
    }
   ],
   "source": [
    "start_with(\"abhay\",'a')\n"
   ]
  },
  {
   "cell_type": "code",
   "execution_count": 11,
   "id": "ba9ae843-ea5e-4d40-ac73-ec919bd9c7d0",
   "metadata": {},
   "outputs": [
    {
     "data": {
      "text/plain": [
       "True"
      ]
     },
     "execution_count": 11,
     "metadata": {},
     "output_type": "execute_result"
    }
   ],
   "source": [
    "numerics=lambda x:x.isnumeric()\n",
    "numerics(\"123\")\n"
   ]
  },
  {
   "cell_type": "code",
   "execution_count": 12,
   "id": "b7bb1723-3773-4d20-b5f9-de27ca91c410",
   "metadata": {},
   "outputs": [
    {
     "data": {
      "text/plain": [
       "False"
      ]
     },
     "execution_count": 12,
     "metadata": {},
     "output_type": "execute_result"
    }
   ],
   "source": [
    "numerics(\"12d\")"
   ]
  },
  {
   "cell_type": "code",
   "execution_count": 13,
   "id": "db8cd3e9-8474-4a2c-8c31-8ecbb09ac538",
   "metadata": {},
   "outputs": [],
   "source": [
    "fruits=[(\"mango\",99),(\"orange\",80), (\"grapes\", 1000)]\n",
    "sotedlist=sorted(fruits,key=lambda x:x[1])"
   ]
  },
  {
   "cell_type": "code",
   "execution_count": 14,
   "id": "524095f8-932a-46b1-8f78-815c5a937046",
   "metadata": {},
   "outputs": [
    {
     "data": {
      "text/plain": [
       "[('orange', 80), ('mango', 99), ('grapes', 1000)]"
      ]
     },
     "execution_count": 14,
     "metadata": {},
     "output_type": "execute_result"
    }
   ],
   "source": [
    "sotedlist"
   ]
  },
  {
   "cell_type": "code",
   "execution_count": 1,
   "id": "fef51d06-93f4-47be-8bf1-e4e4fa0d3e0d",
   "metadata": {},
   "outputs": [],
   "source": [
    "squares = [x**2 for x in range(1, 11)]"
   ]
  },
  {
   "cell_type": "raw",
   "id": "6120220c-ffb2-4756-b295-5161ff190bdd",
   "metadata": {},
   "source": [
    "squares"
   ]
  },
  {
   "cell_type": "code",
   "execution_count": 5,
   "id": "69e006c1-005d-4da8-b23d-b8be60f19420",
   "metadata": {},
   "outputs": [],
   "source": [
    "import math\n",
    "cube=[math.pow(x,1/3) for x in range(1,11)]"
   ]
  },
  {
   "cell_type": "code",
   "execution_count": 6,
   "id": "2940fe30-cc22-4daf-997e-cdc1510072fa",
   "metadata": {},
   "outputs": [
    {
     "data": {
      "text/plain": [
       "[1.0,\n",
       " 1.2599210498948732,\n",
       " 1.4422495703074083,\n",
       " 1.5874010519681994,\n",
       " 1.7099759466766968,\n",
       " 1.8171205928321397,\n",
       " 1.912931182772389,\n",
       " 2.0,\n",
       " 2.080083823051904,\n",
       " 2.154434690031884]"
      ]
     },
     "execution_count": 6,
     "metadata": {},
     "output_type": "execute_result"
    }
   ],
   "source": [
    "cube"
   ]
  },
  {
   "cell_type": "code",
   "execution_count": 9,
   "id": "b83de118-f557-47f8-9e21-85673c8f821b",
   "metadata": {},
   "outputs": [],
   "source": [
    "num=lambda x:x%2==0"
   ]
  },
  {
   "cell_type": "code",
   "execution_count": 10,
   "id": "6b21dbd4-8538-45b2-8245-d3801009d0ad",
   "metadata": {},
   "outputs": [
    {
     "data": {
      "text/plain": [
       "False"
      ]
     },
     "execution_count": 10,
     "metadata": {},
     "output_type": "execute_result"
    }
   ],
   "source": [
    "num(3)"
   ]
  },
  {
   "cell_type": "code",
   "execution_count": 16,
   "id": "1fb48712-304d-4361-b942-483649d5af19",
   "metadata": {},
   "outputs": [],
   "source": [
    "l=[1,2,3,4,5,6,7,8,9,10]\n",
    "odd=[x for x in l if x%2==1]"
   ]
  },
  {
   "cell_type": "code",
   "execution_count": 17,
   "id": "85bff5d6-5a9c-4109-89aa-2fbcf3d42cde",
   "metadata": {},
   "outputs": [
    {
     "data": {
      "text/plain": [
       "[1, 3, 5, 7, 9]"
      ]
     },
     "execution_count": 17,
     "metadata": {},
     "output_type": "execute_result"
    }
   ],
   "source": [
    "odd"
   ]
  },
  {
   "cell_type": "code",
   "execution_count": 18,
   "id": "7343467b-3d65-4c47-9ba9-65dbc284a848",
   "metadata": {},
   "outputs": [],
   "source": [
    "pos_neg=[1,2,3,4,5,6,-1,-2,-3,-4,-5,0]"
   ]
  },
  {
   "cell_type": "code",
   "execution_count": 19,
   "id": "cbdf7d40-f603-4f5b-aa35-206b395fa7d1",
   "metadata": {},
   "outputs": [],
   "source": [
    "pos=[x for x in pos_neg if x>0]\n",
    "ne=[x for x in pos_neg if x<0]"
   ]
  },
  {
   "cell_type": "code",
   "execution_count": 20,
   "id": "b390824f-2d1c-4ee3-8064-00239f13fc68",
   "metadata": {},
   "outputs": [
    {
     "data": {
      "text/plain": [
       "[1, 2, 3, 4, 5, 6]"
      ]
     },
     "execution_count": 20,
     "metadata": {},
     "output_type": "execute_result"
    }
   ],
   "source": [
    "pos"
   ]
  },
  {
   "cell_type": "code",
   "execution_count": 21,
   "id": "94ed5c88-0a91-424b-9f11-28cf24e9b5d5",
   "metadata": {},
   "outputs": [
    {
     "data": {
      "text/plain": [
       "[-1, -2, -3, -4, -5]"
      ]
     },
     "execution_count": 21,
     "metadata": {},
     "output_type": "execute_result"
    }
   ],
   "source": [
    "ne"
   ]
  },
  {
   "cell_type": "code",
   "execution_count": null,
   "id": "36e85a94-59db-4725-9a76-823807743664",
   "metadata": {},
   "outputs": [],
   "source": []
  }
 ],
 "metadata": {
  "kernelspec": {
   "display_name": "Python 3 (ipykernel)",
   "language": "python",
   "name": "python3"
  },
  "language_info": {
   "codemirror_mode": {
    "name": "ipython",
    "version": 3
   },
   "file_extension": ".py",
   "mimetype": "text/x-python",
   "name": "python",
   "nbconvert_exporter": "python",
   "pygments_lexer": "ipython3",
   "version": "3.12.4"
  }
 },
 "nbformat": 4,
 "nbformat_minor": 5
}
